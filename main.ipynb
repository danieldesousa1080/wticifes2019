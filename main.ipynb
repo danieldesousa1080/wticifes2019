{
 "cells": [
  {
   "cell_type": "code",
   "execution_count": 1,
   "metadata": {},
   "outputs": [],
   "source": [
    "from functions import *\n",
    "from pprint import pprint"
   ]
  },
  {
   "cell_type": "code",
   "execution_count": 2,
   "metadata": {},
   "outputs": [
    {
     "data": {
      "text/plain": [
       "0     A Aplicação de Tecnologias Ágeis no Desenvolvi...\n",
       "1                                               UFMT   \n",
       "2     Analisa UFG - Plataforma de Análise de Dados d...\n",
       "3     Análise de dados da telefonia fixa e móvel com...\n",
       "4     Aplicação de Testes Automáticos com Selenium W...\n",
       "5     Aplicativo Siga UFMG: Relato de Experiência no...\n",
       "6     Avaliação do Uso da Internet sem fio pelos usu...\n",
       "7     Do Papel ao Digital Implantação de Sistema de ...\n",
       "8     DWD - Um método para criação de senhas seguras...\n",
       "9     Entregando recursos para aplicações multiplata...\n",
       "10    Ferramenta para facilitar a comunicação do Pla...\n",
       "11               Crisley P  Linhares, Gerson B da Silva\n",
       "12    PoC RNP/UFG: Implantação do G Suite por meio d...\n",
       "13                       Portal de Dados Abertos UFG   \n",
       "14    Portal de Integração UFG - APIs de serviços pa...\n",
       "15    Processo de gerenciamento de riscos: um relato...\n",
       "16               Universidade Federal de Mato Grosso   \n",
       "17    SeBaHo Juntando o Util ao Necessário Serviço d...\n",
       "18    SINAPSE: Sistema Integrado de Acompanhamento d...\n",
       "19    SisPAC – Sistema para Levantamento e Consolida...\n",
       "20    Transformação de Projetos de Sistemas de Infor...\n",
       "21    UFPB-Sentinela: Um Sistema de Segurança para a...\n",
       "22    Uma solução de automatização no processo de pa...\n",
       "23    Universidade Digital: Gerenciamento de Ordem d...\n",
       "24    Utilização da Central de Ajuda para a Tecnolog...\n",
       "25    Utilizando a Gestão de Conhecimento para facil...\n",
       "26    Análise do Processo de Interações Acadêmicas A...\n",
       "27                         Afro-Brasileira (Unilab) - -\n",
       "dtype: object"
      ]
     },
     "execution_count": 2,
     "metadata": {},
     "output_type": "execute_result"
    }
   ],
   "source": [
    "pd.Series(get_topics().unique())"
   ]
  }
 ],
 "metadata": {
  "kernelspec": {
   "display_name": "venv",
   "language": "python",
   "name": "python3"
  },
  "language_info": {
   "codemirror_mode": {
    "name": "ipython",
    "version": 3
   },
   "file_extension": ".py",
   "mimetype": "text/x-python",
   "name": "python",
   "nbconvert_exporter": "python",
   "pygments_lexer": "ipython3",
   "version": "3.10.6"
  },
  "orig_nbformat": 4
 },
 "nbformat": 4,
 "nbformat_minor": 2
}
